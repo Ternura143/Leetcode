{
 "cells": [
  {
   "cell_type": "code",
   "execution_count": 1,
   "id": "50d5bbf0",
   "metadata": {},
   "outputs": [],
   "source": [
    "# 初始化数组\n",
    "arr: list[int] = [0] * 5  # [ 0, 0, 0, 0, 0 ]\n",
    "nums: list[int] = [1, 3, 2, 5, 4]"
   ]
  },
  {
   "cell_type": "code",
   "execution_count": 2,
   "id": "6d411a76",
   "metadata": {},
   "outputs": [
    {
     "data": {
      "text/plain": [
       "[0, 0, 0, 0, 0]"
      ]
     },
     "execution_count": 2,
     "metadata": {},
     "output_type": "execute_result"
    }
   ],
   "source": [
    "arr"
   ]
  },
  {
   "cell_type": "code",
   "execution_count": 3,
   "id": "5027ffd0",
   "metadata": {},
   "outputs": [],
   "source": [
    "import random\n",
    "def random_access(nums: list[int]) -> int:\n",
    "    random_index = random.randint(0, len(nums) -1)\n",
    "    random_num = nums[random_index]\n",
    "    return random_num"
   ]
  },
  {
   "cell_type": "code",
   "execution_count": 6,
   "id": "0ad50ecb",
   "metadata": {},
   "outputs": [
    {
     "data": {
      "text/plain": [
       "4"
      ]
     },
     "execution_count": 6,
     "metadata": {},
     "output_type": "execute_result"
    }
   ],
   "source": [
    "a = random_access(nums)\n",
    "a"
   ]
  },
  {
   "cell_type": "code",
   "execution_count": null,
   "id": "3b2eeb33",
   "metadata": {},
   "outputs": [],
   "source": [
    "class ListNode:\n",
    "    def __init__(self, val: int):\n",
    "        self.val: int = val\n",
    "        self.next: ListNode | None = None\n",
    "        "
   ]
  },
  {
   "cell_type": "code",
   "execution_count": null,
   "id": "5744566e",
   "metadata": {},
   "outputs": [],
   "source": [
    "def find(head: ListNode, target: int) -> int:\n",
    "    index = 0\n",
    "    while head:\n",
    "        if head.val == index:\n",
    "            return index\n",
    "        head = head.next\n",
    "        index += 1\n",
    "    return -1"
   ]
  },
  {
   "cell_type": "code",
   "execution_count": 7,
   "id": "5d5abccd",
   "metadata": {},
   "outputs": [],
   "source": [
    "class TreeNode:\n",
    "    \"\"\"二叉树节点类\"\"\"\n",
    "    def __init__(self, val: int):\n",
    "        self.val: int = val                # 节点值\n",
    "        self.left: TreeNode | None = None  # 左子节点引用\n",
    "        self.right: TreeNode | None = None # 右子节点引用"
   ]
  },
  {
   "cell_type": "code",
   "execution_count": 8,
   "id": "ec0f4c30",
   "metadata": {},
   "outputs": [],
   "source": [
    "# 初始化二叉树\n",
    "# 初始化节点\n",
    "n1 = TreeNode(val=1)\n",
    "n2 = TreeNode(val=2)\n",
    "n3 = TreeNode(val=3)\n",
    "n4 = TreeNode(val=4)\n",
    "n5 = TreeNode(val=5)\n",
    "# 构建节点之间的引用（指针）\n",
    "n1.left = n2\n",
    "n1.right = n3\n",
    "n2.left = n4\n",
    "n2.right = n5"
   ]
  },
  {
   "cell_type": "code",
   "execution_count": 9,
   "id": "d57a095c",
   "metadata": {},
   "outputs": [],
   "source": [
    "from collections import deque\n",
    "def level_order(root: TreeNode | None) -> list[int]:\n",
    "    \"\"\"层序遍历\"\"\"\n",
    "    # 初始化队列，加入根节点\n",
    "    queue: deque[TreeNode] = deque()\n",
    "    queue.append(root)\n",
    "    # 初始化一个列表，用于保存遍历序列\n",
    "    res = []\n",
    "    while queue:\n",
    "        node: TreeNode = queue.popleft()  # 队列出队\n",
    "        res.append(node.val)  # 保存节点值\n",
    "        if node.left is not None:\n",
    "            queue.append(node.left)  # 左子节点入队\n",
    "        if node.right is not None:\n",
    "            queue.append(node.right)  # 右子节点入队\n",
    "    return res"
   ]
  }
 ],
 "metadata": {
  "kernelspec": {
   "display_name": "cs224n",
   "language": "python",
   "name": "python3"
  },
  "language_info": {
   "codemirror_mode": {
    "name": "ipython",
    "version": 3
   },
   "file_extension": ".py",
   "mimetype": "text/x-python",
   "name": "python",
   "nbconvert_exporter": "python",
   "pygments_lexer": "ipython3",
   "version": "3.12.11"
  }
 },
 "nbformat": 4,
 "nbformat_minor": 5
}
